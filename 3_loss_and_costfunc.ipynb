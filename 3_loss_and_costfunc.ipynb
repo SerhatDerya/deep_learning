{
 "cells": [
  {
   "cell_type": "code",
   "execution_count": 17,
   "id": "fdadbe0a-87c7-484b-8837-7576b2383b94",
   "metadata": {},
   "outputs": [],
   "source": [
    "import numpy as np\n",
    "\n",
    "y_predicted = np.array([1,1,0,0,1])\n",
    "y_true = np.array([0.30,0.7,1,0,0.5])"
   ]
  },
  {
   "cell_type": "markdown",
   "id": "8eb6e073-904b-4774-90a3-ec2301f0416e",
   "metadata": {},
   "source": [
    "# Mean Absolute Error (MAE)"
   ]
  },
  {
   "cell_type": "code",
   "execution_count": 18,
   "id": "6851717d-b2b1-4e4b-88cb-1a449b579e5f",
   "metadata": {},
   "outputs": [],
   "source": [
    "# without numpy\n",
    "def mae(y_true, y_predicted):\n",
    "    total_error = 0\n",
    "    for yt, yp in zip(y_true, y_predicted):\n",
    "        total_error += abs(yt - yp)\n",
    "    print(\"Total Error:\", total_error)\n",
    "    \n",
    "    mae = total_error / len(y_true)\n",
    "    print(\"MAE:\",mae)\n",
    "    return mae"
   ]
  },
  {
   "cell_type": "code",
   "execution_count": 19,
   "id": "8d99f6f2-54ea-4b23-8493-bcb0167e6d49",
   "metadata": {},
   "outputs": [
    {
     "name": "stdout",
     "output_type": "stream",
     "text": [
      "Total Error: 2.5\n",
      "MAE: 0.5\n"
     ]
    },
    {
     "data": {
      "text/plain": [
       "0.5"
      ]
     },
     "execution_count": 19,
     "metadata": {},
     "output_type": "execute_result"
    }
   ],
   "source": [
    "mae(y_true, y_predicted)"
   ]
  },
  {
   "cell_type": "code",
   "execution_count": 20,
   "id": "45a2de75-29f8-4aa1-9d0f-0d06be6d331e",
   "metadata": {},
   "outputs": [
    {
     "data": {
      "text/plain": [
       "0.5"
      ]
     },
     "execution_count": 20,
     "metadata": {},
     "output_type": "execute_result"
    }
   ],
   "source": [
    "# by using numpy\n",
    "np.mean(np.abs(y_predicted - y_true))"
   ]
  },
  {
   "cell_type": "markdown",
   "id": "4efc8007-68bd-445a-a6a0-bdd68ed6a979",
   "metadata": {},
   "source": [
    "# Log Loss / Binary Crossentropy"
   ]
  },
  {
   "cell_type": "code",
   "execution_count": 21,
   "id": "e975d56e-cd6a-4575-9dfa-c0337b84abae",
   "metadata": {},
   "outputs": [],
   "source": [
    "# since log1 causes to make multiplication 0, we use e in out calculations\n",
    "def log_loss(y_true, y_predicted):\n",
    "    epsilon = 1e-15\n",
    "    y_predicted_new = [max(i,epsilon) for i in y_predicted]\n",
    "    y_predicted_new = [min(i,1-epsilon) for i in y_predicted_new]\n",
    "    y_predicted_new = np.array(y_predicted_new)\n",
    "    return -np.mean(y_true*np.log(y_predicted_new)+(1-y_true)*np.log(1-y_predicted_new))"
   ]
  },
  {
   "cell_type": "code",
   "execution_count": 22,
   "id": "10e6867c-8a07-4a58-ab0f-ea247b445021",
   "metadata": {},
   "outputs": [
    {
     "data": {
      "text/plain": [
       "17.2696280766844"
      ]
     },
     "execution_count": 22,
     "metadata": {},
     "output_type": "execute_result"
    }
   ],
   "source": [
    "log_loss(y_true, y_predicted)"
   ]
  },
  {
   "cell_type": "markdown",
   "id": "dc6271e3-9b9e-41cc-9341-fe7030e8ba63",
   "metadata": {},
   "source": [
    "# Mean Squared Error (MSE)"
   ]
  },
  {
   "cell_type": "code",
   "execution_count": 23,
   "id": "5d5f1709-304f-438f-b3a1-843cf60aa0d2",
   "metadata": {},
   "outputs": [],
   "source": [
    "y_predicted = np.array([1,1,0,0,1])\n",
    "y_true = np.array([0.30,0.7,1,0,0.5])"
   ]
  },
  {
   "cell_type": "code",
   "execution_count": 24,
   "id": "06664bee-060b-4edc-b61c-01aeab367926",
   "metadata": {},
   "outputs": [],
   "source": [
    "# without numpy\n",
    "def mse(y_true, y_predicted):\n",
    "    total_error = 0\n",
    "    for yt,yp in zip(y_true, y_predicted):\n",
    "        total_error += abs(yt-yp)**2\n",
    "    print(\"Total Error:\",total_error)\n",
    "    \n",
    "    mse = total_error / len(y_true)\n",
    "    print(\"MSE:\",mse)\n",
    "    return mse"
   ]
  },
  {
   "cell_type": "code",
   "execution_count": 25,
   "id": "1a0dc56c-2626-4f50-a69a-306f63dcdb96",
   "metadata": {},
   "outputs": [
    {
     "name": "stdout",
     "output_type": "stream",
     "text": [
      "Total Error: 1.83\n",
      "MSE: 0.366\n"
     ]
    },
    {
     "data": {
      "text/plain": [
       "0.366"
      ]
     },
     "execution_count": 25,
     "metadata": {},
     "output_type": "execute_result"
    }
   ],
   "source": [
    "mse(y_true, y_predicted)"
   ]
  },
  {
   "cell_type": "code",
   "execution_count": 26,
   "id": "06436d36-11e3-40f2-92dd-d1e8a01486d8",
   "metadata": {},
   "outputs": [
    {
     "data": {
      "text/plain": [
       "0.366"
      ]
     },
     "execution_count": 26,
     "metadata": {},
     "output_type": "execute_result"
    }
   ],
   "source": [
    "# by using numpy\n",
    "np.mean(np.square(np.abs(y_true-y_predicted)))"
   ]
  },
  {
   "cell_type": "code",
   "execution_count": null,
   "id": "61eddf1e-48fd-422a-8d5d-aac8e9864681",
   "metadata": {},
   "outputs": [],
   "source": []
  }
 ],
 "metadata": {
  "kernelspec": {
   "display_name": "Python 3 (ipykernel)",
   "language": "python",
   "name": "python3"
  },
  "language_info": {
   "codemirror_mode": {
    "name": "ipython",
    "version": 3
   },
   "file_extension": ".py",
   "mimetype": "text/x-python",
   "name": "python",
   "nbconvert_exporter": "python",
   "pygments_lexer": "ipython3",
   "version": "3.9.15"
  }
 },
 "nbformat": 4,
 "nbformat_minor": 5
}
