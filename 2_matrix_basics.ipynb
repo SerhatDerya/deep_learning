{
 "cells": [
  {
   "cell_type": "code",
   "execution_count": 1,
   "id": "c8802c46-7fd5-4629-a6c1-692bcc2e30db",
   "metadata": {},
   "outputs": [],
   "source": [
    "import numpy as np"
   ]
  },
  {
   "cell_type": "code",
   "execution_count": 2,
   "id": "2a3c5fb0-00d5-48dc-9c45-d29af1806065",
   "metadata": {},
   "outputs": [],
   "source": [
    "revenue = np.array([[180,200,220],[24,36,40],[12,18,20]])\n",
    "expenses = np.array([[80,90,100],[10,16,20],[8,10,10]])"
   ]
  },
  {
   "cell_type": "code",
   "execution_count": 3,
   "id": "4da78367-758e-4922-b57e-17c048f5eb4e",
   "metadata": {},
   "outputs": [
    {
     "data": {
      "text/plain": [
       "array([[100, 110, 120],\n",
       "       [ 14,  20,  20],\n",
       "       [  4,   8,  10]])"
      ]
     },
     "execution_count": 3,
     "metadata": {},
     "output_type": "execute_result"
    }
   ],
   "source": [
    "profit = revenue - expenses\n",
    "profit"
   ]
  },
  {
   "cell_type": "code",
   "execution_count": 4,
   "id": "a25d5563-3e58-43fe-a3bd-fa2b4ca5cff7",
   "metadata": {},
   "outputs": [],
   "source": [
    "price_per_unit = np.array([1000,400,1200])\n",
    "units = np.array([[30,40,50],[5,10,15],[2,5,7,]])\n",
    "\n",
    "# works as if price_per_unit = np.array([[1000,400,1200],[1000,400,1200],[1000,400,1200]])"
   ]
  },
  {
   "cell_type": "code",
   "execution_count": 6,
   "id": "8d12c038-9c29-4565-be46-8e200368df92",
   "metadata": {},
   "outputs": [
    {
     "data": {
      "text/plain": [
       "array([[30000, 16000, 60000],\n",
       "       [ 5000,  4000, 18000],\n",
       "       [ 2000,  2000,  8400]])"
      ]
     },
     "execution_count": 6,
     "metadata": {},
     "output_type": "execute_result"
    }
   ],
   "source": [
    "price_per_unit*units"
   ]
  },
  {
   "cell_type": "code",
   "execution_count": 7,
   "id": "c76687fc-5d2f-4c58-812a-eff046c70ec8",
   "metadata": {},
   "outputs": [
    {
     "data": {
      "text/plain": [
       "array([34400, 50000, 64400])"
      ]
     },
     "execution_count": 7,
     "metadata": {},
     "output_type": "execute_result"
    }
   ],
   "source": [
    "# Dot Product\n",
    "\n",
    "np.dot(price_per_unit, units)"
   ]
  },
  {
   "cell_type": "markdown",
   "id": "e61e450a-83cd-4734-a3f8-727baee2a2b7",
   "metadata": {},
   "source": [
    "## Exercise"
   ]
  },
  {
   "cell_type": "code",
   "execution_count": 8,
   "id": "1c535ecf-726c-4db8-ab7c-306c528cc8b8",
   "metadata": {},
   "outputs": [],
   "source": [
    "revenues = np.array([[200,220,250],[68,79,105],[110,140,180],[80,85,90]])\n",
    "\n",
    "# revenues are given in USD. Convert them into INR (1 USD = 75 INR)"
   ]
  },
  {
   "cell_type": "code",
   "execution_count": 9,
   "id": "5aa63dcc-c1d6-4d71-8148-6b79b5b8e150",
   "metadata": {},
   "outputs": [
    {
     "data": {
      "text/plain": [
       "array([[15000, 16500, 18750],\n",
       "       [ 5100,  5925,  7875],\n",
       "       [ 8250, 10500, 13500],\n",
       "       [ 6000,  6375,  6750]])"
      ]
     },
     "execution_count": 9,
     "metadata": {},
     "output_type": "execute_result"
    }
   ],
   "source": [
    "revenues * 75"
   ]
  },
  {
   "cell_type": "code",
   "execution_count": 10,
   "id": "85223c82-24e6-4f8e-bdb1-e6d6becb6275",
   "metadata": {},
   "outputs": [],
   "source": [
    "sales = np.array([[50,60,25],[10,13,5],[40,70,52]])\n",
    "price_per_unit = np.array([20,30,15])\n",
    "\n",
    "# sales are given per month and unit prices are given for each type of flower. find out total sales in every month"
   ]
  },
  {
   "cell_type": "code",
   "execution_count": 11,
   "id": "470a5d1c-5957-4276-baa5-fb869a455f17",
   "metadata": {},
   "outputs": [
    {
     "data": {
      "text/plain": [
       "array([1900, 2640, 1430])"
      ]
     },
     "execution_count": 11,
     "metadata": {},
     "output_type": "execute_result"
    }
   ],
   "source": [
    "np.dot(price_per_unit,sales)"
   ]
  },
  {
   "cell_type": "code",
   "execution_count": null,
   "id": "7b5f79dc-b9c6-420f-bb03-9ea770f759c0",
   "metadata": {},
   "outputs": [],
   "source": []
  }
 ],
 "metadata": {
  "kernelspec": {
   "display_name": "Python 3 (ipykernel)",
   "language": "python",
   "name": "python3"
  },
  "language_info": {
   "codemirror_mode": {
    "name": "ipython",
    "version": 3
   },
   "file_extension": ".py",
   "mimetype": "text/x-python",
   "name": "python",
   "nbconvert_exporter": "python",
   "pygments_lexer": "ipython3",
   "version": "3.9.15"
  }
 },
 "nbformat": 4,
 "nbformat_minor": 5
}
